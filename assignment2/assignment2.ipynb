{
 "cells": [
  {
   "cell_type": "markdown",
   "metadata": {},
   "source": [
    "## 1 Tensorflow Softmax"
   ]
  },
  {
   "cell_type": "code",
   "execution_count": 7,
   "metadata": {},
   "outputs": [
    {
     "name": "stdout",
     "output_type": "stream",
     "text": [
      "2018-05-31 18:32:13.054796: I tensorflow/core/platform/cpu_feature_guard.cc:140] Your CPU supports instructions that this TensorFlow binary was not compiled to use: AVX2 FMA\r\n",
      "Softmax test 1 passed!\r\n",
      "Softmax test 2 passed!\r\n",
      "Basic (non-exhaustive) softmax tests pass\r\n",
      "\r\n",
      "Cross-entropy test 1 passed!\r\n",
      "Basic (non-exhaustive) cross-entropy tests pass\r\n"
     ]
    }
   ],
   "source": [
    "!python q1_softmax.py"
   ]
  },
  {
   "cell_type": "code",
   "execution_count": 8,
   "metadata": {
    "scrolled": true
   },
   "outputs": [
    {
     "name": "stdout",
     "output_type": "stream",
     "text": [
      "2018-05-31 18:32:20.324980: I tensorflow/core/platform/cpu_feature_guard.cc:140] Your CPU supports instructions that this TensorFlow binary was not compiled to use: AVX2 FMA\n",
      "Epoch 0: loss = 140.05 (0.112 sec)\n",
      "Epoch 1: loss = 39.20 (0.011 sec)\n",
      "Epoch 2: loss = 16.15 (0.011 sec)\n",
      "Epoch 3: loss = 9.53 (0.010 sec)\n",
      "Epoch 4: loss = 6.65 (0.010 sec)\n",
      "Epoch 5: loss = 5.07 (0.010 sec)\n",
      "Epoch 6: loss = 4.09 (0.010 sec)\n",
      "Epoch 7: loss = 3.42 (0.010 sec)\n",
      "Epoch 8: loss = 2.93 (0.010 sec)\n",
      "Epoch 9: loss = 2.57 (0.011 sec)\n",
      "Epoch 10: loss = 2.28 (0.010 sec)\n",
      "Epoch 11: loss = 2.05 (0.010 sec)\n",
      "Epoch 12: loss = 1.87 (0.010 sec)\n",
      "Epoch 13: loss = 1.71 (0.010 sec)\n",
      "Epoch 14: loss = 1.58 (0.010 sec)\n",
      "Epoch 15: loss = 1.46 (0.010 sec)\n",
      "Epoch 16: loss = 1.36 (0.011 sec)\n",
      "Epoch 17: loss = 1.28 (0.010 sec)\n",
      "Epoch 18: loss = 1.20 (0.010 sec)\n",
      "Epoch 19: loss = 1.13 (0.011 sec)\n",
      "Epoch 20: loss = 1.07 (0.010 sec)\n",
      "Epoch 21: loss = 1.02 (0.011 sec)\n",
      "Epoch 22: loss = 0.97 (0.011 sec)\n",
      "Epoch 23: loss = 0.93 (0.011 sec)\n",
      "Epoch 24: loss = 0.89 (0.011 sec)\n",
      "Epoch 25: loss = 0.85 (0.011 sec)\n",
      "Epoch 26: loss = 0.81 (0.010 sec)\n",
      "Epoch 27: loss = 0.78 (0.010 sec)\n",
      "Epoch 28: loss = 0.75 (0.010 sec)\n",
      "Epoch 29: loss = 0.73 (0.011 sec)\n",
      "Epoch 30: loss = 0.70 (0.011 sec)\n",
      "Epoch 31: loss = 0.68 (0.010 sec)\n",
      "Epoch 32: loss = 0.66 (0.010 sec)\n",
      "Epoch 33: loss = 0.63 (0.011 sec)\n",
      "Epoch 34: loss = 0.62 (0.011 sec)\n",
      "Epoch 35: loss = 0.60 (0.010 sec)\n",
      "Epoch 36: loss = 0.58 (0.011 sec)\n",
      "Epoch 37: loss = 0.56 (0.011 sec)\n",
      "Epoch 38: loss = 0.55 (0.010 sec)\n",
      "Epoch 39: loss = 0.53 (0.010 sec)\n",
      "Epoch 40: loss = 0.52 (0.011 sec)\n",
      "Epoch 41: loss = 0.51 (0.011 sec)\n",
      "Epoch 42: loss = 0.49 (0.011 sec)\n",
      "Epoch 43: loss = 0.48 (0.011 sec)\n",
      "Epoch 44: loss = 0.47 (0.011 sec)\n",
      "Epoch 45: loss = 0.46 (0.010 sec)\n",
      "Epoch 46: loss = 0.45 (0.010 sec)\n",
      "Epoch 47: loss = 0.44 (0.011 sec)\n",
      "Epoch 48: loss = 0.43 (0.011 sec)\n",
      "Epoch 49: loss = 0.42 (0.011 sec)\n",
      "Basic (non-exhaustive) classifier tests pass\n"
     ]
    }
   ],
   "source": [
    "!python q1_classifier.py"
   ]
  },
  {
   "cell_type": "markdown",
   "metadata": {},
   "source": [
    "## 2 Neural Transition-Based Dependency Parsing"
   ]
  },
  {
   "cell_type": "code",
   "execution_count": 9,
   "metadata": {},
   "outputs": [
    {
     "name": "stdout",
     "output_type": "stream",
     "text": [
      "SHIFT test passed!\r\n",
      "LEFT-ARC test passed!\r\n",
      "RIGHT-ARC test passed!\r\n",
      "parse test passed!\r\n",
      "minibatch_parse test passed!\r\n"
     ]
    }
   ],
   "source": [
    "!python q2_parser_transitions.py"
   ]
  },
  {
   "cell_type": "code",
   "execution_count": 10,
   "metadata": {},
   "outputs": [
    {
     "name": "stdout",
     "output_type": "stream",
     "text": [
      "Running basic tests...\r\n",
      "Basic (non-exhaustive) Xavier initialization tests pass\r\n"
     ]
    }
   ],
   "source": [
    "!python q2_initialization.py"
   ]
  },
  {
   "cell_type": "code",
   "execution_count": 5,
   "metadata": {
    "scrolled": true
   },
   "outputs": [
    {
     "name": "stdout",
     "output_type": "stream",
     "text": [
      "================================================================================\n",
      "INITIALIZING\n",
      "================================================================================\n",
      "Loading data...\n",
      "took 2.53 seconds\n",
      "Building parser...\n",
      "took 1.61 seconds\n",
      "Loading pretrained embeddings...\n",
      "took 2.82 seconds\n",
      "Vectorizing data...\n",
      "took 2.10 seconds\n",
      "Preprocessing training data...\n",
      "took 49.16 seconds\n",
      "Building model...\n",
      "took 0.39 seconds\n",
      "\n",
      "2018-05-31 19:57:09.939184: I tensorflow/core/platform/cpu_feature_guard.cc:140] Your CPU supports instructions that this TensorFlow binary was not compiled to use: AVX2 FMA\n",
      "================================================================================\n",
      "TRAINING\n",
      "================================================================================\n",
      "Epoch 1 out of 20\n",
      "924/924 [============================>.] - ETA: 0s - train loss: 0.1458 - train accuracy: 0.9435\n",
      "Evaluating on dev set - dev UAS: 85.16\n",
      "New best dev UAS! Saving model in ./data/weights/parser.weights\n",
      "\n",
      "Epoch 2 out of 20\n",
      "924/924 [============================>.] - ETA: 0s - train loss: 0.0895 - train accuracy: 0.9665\n",
      "Evaluating on dev set - dev UAS: 86.31\n",
      "New best dev UAS! Saving model in ./data/weights/parser.weights\n",
      "\n",
      "Epoch 3 out of 20\n",
      "924/924 [============================>.] - ETA: 0s - train loss: 0.0784 - train accuracy: 0.9706\n",
      "Evaluating on dev set - dev UAS: 87.56\n",
      "New best dev UAS! Saving model in ./data/weights/parser.weights\n",
      "\n",
      "Epoch 4 out of 20\n",
      "924/924 [============================>.] - ETA: 0s - train loss: 0.0721 - train accuracy: 0.9730\n",
      "Evaluating on dev set - dev UAS: 87.64\n",
      "New best dev UAS! Saving model in ./data/weights/parser.weights\n",
      "\n",
      "Epoch 5 out of 20\n",
      "924/924 [============================>.] - ETA: 0s - train loss: 0.0668 - train accuracy: 0.9749\n",
      "Evaluating on dev set - dev UAS: 87.68\n",
      "New best dev UAS! Saving model in ./data/weights/parser.weights\n",
      "\n",
      "Epoch 6 out of 20\n",
      "924/924 [============================>.] - ETA: 0s - train loss: 0.0627 - train accuracy: 0.9764\n",
      "Evaluating on dev set - dev UAS: 87.44\n",
      "\n",
      "Epoch 7 out of 20\n",
      "924/924 [============================>.] - ETA: 0s - train loss: 0.0591 - train accuracy: 0.9777\n",
      "Evaluating on dev set - dev UAS: 88.23\n",
      "New best dev UAS! Saving model in ./data/weights/parser.weights\n",
      "\n",
      "Epoch 8 out of 20\n",
      "924/924 [============================>.] - ETA: 0s - train loss: 0.0561 - train accuracy: 0.9790\n",
      "Evaluating on dev set - dev UAS: 88.28\n",
      "New best dev UAS! Saving model in ./data/weights/parser.weights\n",
      "\n",
      "Epoch 9 out of 20\n",
      "924/924 [============================>.] - ETA: 0s - train loss: 0.0531 - train accuracy: 0.9801\n",
      "Evaluating on dev set - dev UAS: 87.81\n",
      "\n",
      "Epoch 10 out of 20\n",
      "924/924 [============================>.] - ETA: 0s - train loss: 0.0504 - train accuracy: 0.9811\n",
      "Evaluating on dev set - dev UAS: 88.37\n",
      "New best dev UAS! Saving model in ./data/weights/parser.weights\n",
      "\n",
      "Epoch 11 out of 20\n",
      "924/924 [============================>.] - ETA: 0s - train loss: 0.0479 - train accuracy: 0.9820\n",
      "Evaluating on dev set - dev UAS: 87.93\n",
      "\n",
      "Epoch 12 out of 20\n",
      "924/924 [============================>.] - ETA: 0s - train loss: 0.0455 - train accuracy: 0.9829\n",
      "Evaluating on dev set - dev UAS: 88.37\n",
      "\n",
      "Epoch 13 out of 20\n",
      "924/924 [============================>.] - ETA: 0s - train loss: 0.0435 - train accuracy: 0.9836\n",
      "Evaluating on dev set - dev UAS: 88.16\n",
      "\n",
      "Epoch 14 out of 20\n",
      "924/924 [============================>.] - ETA: 0s - train loss: 0.0416 - train accuracy: 0.9844\n",
      "Evaluating on dev set - dev UAS: 88.44\n",
      "New best dev UAS! Saving model in ./data/weights/parser.weights\n",
      "\n",
      "Epoch 15 out of 20\n",
      "924/924 [============================>.] - ETA: 0s - train loss: 0.0400 - train accuracy: 0.9850\n",
      "Evaluating on dev set - dev UAS: 87.90\n",
      "\n",
      "Epoch 16 out of 20\n",
      "924/924 [============================>.] - ETA: 0s - train loss: 0.0380 - train accuracy: 0.9857\n",
      "Evaluating on dev set - dev UAS: 87.83\n",
      "\n",
      "Epoch 17 out of 20\n",
      "924/924 [============================>.] - ETA: 0s - train loss: 0.0364 - train accuracy: 0.9863\n",
      "Evaluating on dev set - dev UAS: 88.06\n",
      "\n",
      "Epoch 18 out of 20\n",
      "924/924 [============================>.] - ETA: 0s - train loss: 0.0350 - train accuracy: 0.9868\n",
      "Evaluating on dev set - dev UAS: 88.36\n",
      "\n",
      "Epoch 19 out of 20\n",
      "924/924 [============================>.] - ETA: 0s - train loss: 0.0338 - train accuracy: 0.9873\n",
      "Evaluating on dev set - dev UAS: 88.37\n",
      "\n",
      "Epoch 20 out of 20\n",
      "924/924 [============================>.] - ETA: 0s - train loss: 0.0321 - train accuracy: 0.9879\n",
      "Evaluating on dev set - dev UAS: 87.90\n",
      "\n",
      "================================================================================\n",
      "TESTING\n",
      "================================================================================\n",
      "Restoring the best model weights found on the dev set\n",
      "Final evaluation on test set - test UAS: 88.57\n",
      "Writing predictions\n",
      "Done!\n"
     ]
    }
   ],
   "source": [
    "!python q2_parser_model.py"
   ]
  },
  {
   "cell_type": "markdown",
   "metadata": {},
   "source": [
    "## 3 Recurrent Neural Networks: Language Modeling"
   ]
  },
  {
   "cell_type": "code",
   "execution_count": null,
   "metadata": {},
   "outputs": [],
   "source": []
  }
 ],
 "metadata": {
  "kernelspec": {
   "display_name": "Python 3",
   "language": "python",
   "name": "python3"
  },
  "language_info": {
   "codemirror_mode": {
    "name": "ipython",
    "version": 3
   },
   "file_extension": ".py",
   "mimetype": "text/x-python",
   "name": "python",
   "nbconvert_exporter": "python",
   "pygments_lexer": "ipython3",
   "version": "3.6.4"
  }
 },
 "nbformat": 4,
 "nbformat_minor": 2
}
