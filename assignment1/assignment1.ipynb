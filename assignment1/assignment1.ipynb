{
 "cells": [
  {
   "cell_type": "markdown",
   "metadata": {},
   "source": [
    "## 1 Softmax"
   ]
  },
  {
   "cell_type": "code",
   "execution_count": 14,
   "metadata": {},
   "outputs": [
    {
     "name": "stdout",
     "output_type": "stream",
     "text": [
      "Running basic tests...\n",
      "[0.26894142 0.73105858]\n",
      "[[0.26894142 0.73105858]\n",
      " [0.26894142 0.73105858]]\n",
      "[[0.73105858 0.26894142]]\n",
      "You should be able to verify these results by hand!\n",
      "\n",
      "Running your tests...\n"
     ]
    }
   ],
   "source": [
    "%run q1_softmax.py"
   ]
  },
  {
   "cell_type": "markdown",
   "metadata": {},
   "source": [
    "## 2 Neural Network Basics"
   ]
  },
  {
   "cell_type": "code",
   "execution_count": 15,
   "metadata": {},
   "outputs": [
    {
     "name": "stdout",
     "output_type": "stream",
     "text": [
      "Running basic tests...\n",
      "[[0.73105858 0.88079708]\n",
      " [0.26894142 0.11920292]]\n",
      "[[0.19661193 0.10499359]\n",
      " [0.19661193 0.10499359]]\n",
      "You should verify these results by hand!\n",
      "\n",
      "Running your tests...\n"
     ]
    }
   ],
   "source": [
    "%run q2_sigmoid.py"
   ]
  },
  {
   "cell_type": "code",
   "execution_count": 16,
   "metadata": {},
   "outputs": [
    {
     "name": "stdout",
     "output_type": "stream",
     "text": [
      "Running sanity checks...\n",
      "Gradient check passed!\n",
      "Gradient check passed!\n",
      "Gradient check passed!\n",
      "\n",
      "Running your sanity checks...\n"
     ]
    }
   ],
   "source": [
    "%run q2_gradcheck.py"
   ]
  },
  {
   "cell_type": "code",
   "execution_count": 17,
   "metadata": {},
   "outputs": [
    {
     "name": "stdout",
     "output_type": "stream",
     "text": [
      "Running sanity check...\n",
      "Gradient check passed!\n",
      "Running your sanity checks...\n"
     ]
    }
   ],
   "source": [
    "%run q2_neural.py"
   ]
  },
  {
   "cell_type": "markdown",
   "metadata": {},
   "source": [
    "## 3 word2vec"
   ]
  },
  {
   "cell_type": "code",
   "execution_count": 18,
   "metadata": {
    "scrolled": false
   },
   "outputs": [
    {
     "name": "stdout",
     "output_type": "stream",
     "text": [
      "Testing normalizeRows...\n",
      "[[0.6        0.8       ]\n",
      " [0.4472136  0.89442719]]\n",
      "\n",
      "==== Gradient check for skip-gram ====\n",
      "Gradient check passed!\n",
      "Gradient check passed!\n",
      "\n",
      "==== Gradient check for CBOW      ====\n",
      "Gradient check passed!\n",
      "Gradient check passed!\n",
      "\n",
      "=== Results ===\n",
      "(11.16610900153398, array([[ 0.        ,  0.        ,  0.        ],\n",
      "       [ 0.        ,  0.        ,  0.        ],\n",
      "       [-1.26947339, -1.36873189,  2.45158957],\n",
      "       [ 0.        ,  0.        ,  0.        ],\n",
      "       [ 0.        ,  0.        ,  0.        ]]), array([[-0.41045956,  0.18834851,  1.43272264],\n",
      "       [ 0.38202831, -0.17530219, -1.33348241],\n",
      "       [ 0.07009355, -0.03216399, -0.24466386],\n",
      "       [ 0.09472154, -0.04346509, -0.33062865],\n",
      "       [-0.13638384,  0.06258276,  0.47605228]]))\n",
      "(14.093692760899629, array([[ 0.        ,  0.        ,  0.        ],\n",
      "       [ 0.        ,  0.        ,  0.        ],\n",
      "       [-3.86802836, -1.12713967, -1.52668625],\n",
      "       [ 0.        ,  0.        ,  0.        ],\n",
      "       [ 0.        ,  0.        ,  0.        ]]), array([[-0.11265089,  0.05169237,  0.39321163],\n",
      "       [-0.22716495,  0.10423969,  0.79292674],\n",
      "       [-0.79674766,  0.36560539,  2.78107395],\n",
      "       [-0.31602611,  0.14501561,  1.10309954],\n",
      "       [-0.80620296,  0.36994417,  2.81407799]]))\n",
      "(0.798995801090665, array([[ 0.23330542, -0.51643128, -0.8281311 ],\n",
      "       [ 0.11665271, -0.25821564, -0.41406555],\n",
      "       [ 0.11665271, -0.25821564, -0.41406555],\n",
      "       [ 0.        ,  0.        ,  0.        ],\n",
      "       [ 0.        ,  0.        ,  0.        ]]), array([[ 0.80954933,  0.21962514, -0.54095764],\n",
      "       [-0.03556575, -0.00964874,  0.02376577],\n",
      "       [-0.13016109, -0.0353118 ,  0.08697634],\n",
      "       [-0.1650812 , -0.04478539,  0.11031068],\n",
      "       [-0.47874129, -0.1298792 ,  0.31990485]]))\n",
      "(7.895593203599139, array([[-2.98873309, -3.38440688, -2.62676289],\n",
      "       [-1.49436655, -1.69220344, -1.31338145],\n",
      "       [-1.49436655, -1.69220344, -1.31338145],\n",
      "       [ 0.        ,  0.        ,  0.        ],\n",
      "       [ 0.        ,  0.        ,  0.        ]]), array([[ 0.21992784,  0.0596649 , -0.14696034],\n",
      "       [-1.37825047, -0.37390982,  0.92097553],\n",
      "       [-0.77702167, -0.21080061,  0.51922198],\n",
      "       [-2.58955401, -0.7025281 ,  1.73039366],\n",
      "       [-2.36749007, -0.64228369,  1.58200593]]))\n"
     ]
    }
   ],
   "source": [
    "%run q3_word2vec.py"
   ]
  },
  {
   "cell_type": "code",
   "execution_count": 1,
   "metadata": {
    "scrolled": false
   },
   "outputs": [
    {
     "name": "stdout",
     "output_type": "stream",
     "text": [
      "Running sanity checks...\n",
      "iter 100: 0.004578\n",
      "iter 200: 0.004353\n",
      "iter 300: 0.004136\n",
      "iter 400: 0.003929\n",
      "iter 500: 0.003733\n",
      "iter 600: 0.003546\n",
      "iter 700: 0.003369\n",
      "iter 800: 0.003200\n",
      "iter 900: 0.003040\n",
      "iter 1000: 0.002888\n",
      "test 1 result: 8.414836786079764e-10\n",
      "iter 100: 0.000000\n",
      "iter 200: 0.000000\n",
      "iter 300: 0.000000\n",
      "iter 400: 0.000000\n",
      "iter 500: 0.000000\n",
      "iter 600: 0.000000\n",
      "iter 700: 0.000000\n",
      "iter 800: 0.000000\n",
      "iter 900: 0.000000\n",
      "iter 1000: 0.000000\n",
      "test 2 result: 0.0\n",
      "iter 100: 0.041205\n",
      "iter 200: 0.039181\n",
      "iter 300: 0.037222\n",
      "iter 400: 0.035361\n",
      "iter 500: 0.033593\n",
      "iter 600: 0.031913\n",
      "iter 700: 0.030318\n",
      "iter 800: 0.028802\n",
      "iter 900: 0.027362\n",
      "iter 1000: 0.025994\n",
      "test 3 result: -2.524451035823933e-09\n",
      "\n",
      "Running your sanity checks...\n"
     ]
    }
   ],
   "source": [
    "%run q3_sgd.py"
   ]
  },
  {
   "cell_type": "code",
   "execution_count": 4,
   "metadata": {
    "scrolled": false
   },
   "outputs": [
    {
     "name": "stdout",
     "output_type": "stream",
     "text": [
      "sanity check: cost at convergence should be around or below 10\n",
      "training took 0 seconds\n"
     ]
    }
   ],
   "source": [
    "%run q3_run.py"
   ]
  },
  {
   "cell_type": "markdown",
   "metadata": {},
   "source": [
    "## 4 Sentiment Analysis"
   ]
  },
  {
   "cell_type": "code",
   "execution_count": 1,
   "metadata": {
    "scrolled": false
   },
   "outputs": [
    {
     "name": "stdout",
     "output_type": "stream",
     "text": [
      "Training for reg=0.018419\n",
      "Train accuracy (%%): 30.454120\n",
      "Dev accuracy (%%): 30.336058\n",
      "Test accuracy (%%): 28.642534\n",
      "Training for reg=0.042863\n",
      "Train accuracy (%%): 30.454120\n",
      "Dev accuracy (%%): 31.062670\n",
      "Test accuracy (%%): 28.868778\n",
      "Training for reg=0.073191\n",
      "Train accuracy (%%): 30.126404\n",
      "Dev accuracy (%%): 30.699364\n",
      "Test accuracy (%%): 28.552036\n",
      "Training for reg=0.173726\n",
      "Train accuracy (%%): 29.751873\n",
      "Dev accuracy (%%): 30.154405\n",
      "Test accuracy (%%): 27.828054\n",
      "Training for reg=0.221063\n",
      "Train accuracy (%%): 29.786985\n",
      "Dev accuracy (%%): 30.063579\n",
      "Test accuracy (%%): 27.692308\n",
      "Training for reg=0.729222\n",
      "Train accuracy (%%): 29.248596\n",
      "Dev accuracy (%%): 29.881926\n",
      "Test accuracy (%%): 27.104072\n",
      "Training for reg=3.468756\n",
      "Train accuracy (%%): 27.773876\n",
      "Dev accuracy (%%): 26.430518\n",
      "Test accuracy (%%): 24.841629\n",
      "Training for reg=9.942377\n",
      "Train accuracy (%%): 27.294007\n",
      "Dev accuracy (%%): 25.613079\n",
      "Test accuracy (%%): 23.348416\n",
      "Training for reg=16.688615\n",
      "Train accuracy (%%): 27.188670\n",
      "Dev accuracy (%%): 25.522252\n",
      "Test accuracy (%%): 23.031674\n",
      "Training for reg=17.893562\n",
      "Train accuracy (%%): 27.176966\n",
      "Dev accuracy (%%): 25.522252\n",
      "Test accuracy (%%): 23.031674\n",
      "\n",
      "=== Recap ===\n",
      "Reg\t\tTrain\tDev\tTest\n",
      "1.84e-02\t30.454\t%30.336\t%28.643\n",
      "4.29e-02\t30.454\t%31.063\t%28.869\n",
      "7.32e-02\t30.126\t%30.699\t%28.552\n",
      "1.74e-01\t29.752\t%30.154\t%27.828\n",
      "2.21e-01\t29.787\t%30.064\t%27.692\n",
      "7.29e-01\t29.249\t%29.882\t%27.104\n",
      "3.47e+00\t27.774\t%26.431\t%24.842\n",
      "9.94e+00\t27.294\t%25.613\t%23.348\n",
      "1.67e+01\t27.189\t%25.522\t%23.032\n",
      "1.79e+01\t27.177\t%25.522\t%23.032\n",
      "\n",
      "Best regularization value: 4.29e-02\n",
      "Test accuracy (%%): 28.868778\n"
     ]
    }
   ],
   "source": [
    "%run q4_sentiment.py --yourvectors"
   ]
  },
  {
   "cell_type": "code",
   "execution_count": 1,
   "metadata": {},
   "outputs": [
    {
     "name": "stdout",
     "output_type": "stream",
     "text": [
      "Training for reg=0.010631\n",
      "Train accuracy (%%): 39.852528\n",
      "Dev accuracy (%%): 36.603088\n",
      "Test accuracy (%%): 37.239819\n",
      "Training for reg=0.055938\n",
      "Train accuracy (%%): 39.829120\n",
      "Dev accuracy (%%): 36.330609\n",
      "Test accuracy (%%): 37.466063\n",
      "Training for reg=0.445285\n",
      "Train accuracy (%%): 39.559925\n",
      "Dev accuracy (%%): 36.421435\n",
      "Test accuracy (%%): 37.239819\n",
      "Training for reg=0.684824\n",
      "Train accuracy (%%): 39.513109\n",
      "Dev accuracy (%%): 36.239782\n",
      "Test accuracy (%%): 37.420814\n",
      "Training for reg=0.738154\n",
      "Train accuracy (%%): 39.454588\n",
      "Dev accuracy (%%): 36.421435\n",
      "Test accuracy (%%): 37.330317\n",
      "Training for reg=3.751840\n",
      "Train accuracy (%%): 39.080056\n",
      "Dev accuracy (%%): 36.784741\n",
      "Test accuracy (%%): 37.420814\n",
      "Training for reg=5.266620\n",
      "Train accuracy (%%): 39.033240\n",
      "Dev accuracy (%%): 36.693915\n",
      "Test accuracy (%%): 37.466063\n",
      "Training for reg=8.204623\n",
      "Train accuracy (%%): 38.775749\n",
      "Dev accuracy (%%): 36.784741\n",
      "Test accuracy (%%): 37.963801\n",
      "Training for reg=13.092658\n",
      "Train accuracy (%%): 38.518258\n",
      "Dev accuracy (%%): 36.966394\n",
      "Test accuracy (%%): 37.420814\n",
      "Training for reg=35.686339\n",
      "Train accuracy (%%): 37.523408\n",
      "Dev accuracy (%%): 36.784741\n",
      "Test accuracy (%%): 36.334842\n",
      "\n",
      "=== Recap ===\n",
      "Reg\t\tTrain\tDev\tTest\n",
      "1.06e-02\t39.853\t%36.603\t%37.240\n",
      "5.59e-02\t39.829\t%36.331\t%37.466\n",
      "4.45e-01\t39.560\t%36.421\t%37.240\n",
      "6.85e-01\t39.513\t%36.240\t%37.421\n",
      "7.38e-01\t39.455\t%36.421\t%37.330\n",
      "3.75e+00\t39.080\t%36.785\t%37.421\n",
      "5.27e+00\t39.033\t%36.694\t%37.466\n",
      "8.20e+00\t38.776\t%36.785\t%37.964\n",
      "1.31e+01\t38.518\t%36.966\t%37.421\n",
      "3.57e+01\t37.523\t%36.785\t%36.335\n",
      "\n",
      "Best regularization value: 1.31e+01\n",
      "Test accuracy (%%): 37.420814\n"
     ]
    }
   ],
   "source": [
    "%run q4_sentiment.py --pretrained"
   ]
  },
  {
   "cell_type": "markdown",
   "metadata": {},
   "source": [
    "label pred sentence\n",
    "\n",
    "3\t1\tnot far beneath the surface , this reconfigured tale asks disturbing questions about those things we expect from military epics .\n",
    "\n",
    "Error: not far is not negative. \n",
    "\n",
    "0\t3\this last movie was poetically romantic and full of indelible images , but his latest has nothing going for it .\n",
    "\n",
    "Error: romantic and indelible are too positive.\n",
    "\n",
    "4\t3\ta deep and meaningful film .\n",
    "\n",
    "Error: It's hard to decide whether it's positive or very positive."
   ]
  },
  {
   "cell_type": "code",
   "execution_count": null,
   "metadata": {},
   "outputs": [],
   "source": []
  }
 ],
 "metadata": {
  "kernelspec": {
   "display_name": "Python 3",
   "language": "python",
   "name": "python3"
  },
  "language_info": {
   "codemirror_mode": {
    "name": "ipython",
    "version": 3
   },
   "file_extension": ".py",
   "mimetype": "text/x-python",
   "name": "python",
   "nbconvert_exporter": "python",
   "pygments_lexer": "ipython3",
   "version": "3.6.5"
  }
 },
 "nbformat": 4,
 "nbformat_minor": 2
}
